{
 "cells": [
  {
   "cell_type": "code",
   "execution_count": 1,
   "metadata": {},
   "outputs": [],
   "source": [
    "import numpy as np\n",
    "import scipy.linalg as spla\n",
    "from sif.kernels import MaternKernel\n",
    "from sif.models import GaussianProcess\n",
    "from sif.samplers import EllipticalSliceSampler"
   ]
  },
  {
   "cell_type": "code",
   "execution_count": 2,
   "metadata": {},
   "outputs": [],
   "source": [
    "import matplotlib.pyplot as plt\n",
    "%matplotlib inline"
   ]
  },
  {
   "cell_type": "markdown",
   "metadata": {},
   "source": [
    "Create random data that is measured with a small amount of noise."
   ]
  },
  {
   "cell_type": "code",
   "execution_count": 3,
   "metadata": {},
   "outputs": [],
   "source": [
    "X = np.random.uniform(size=(50, 1))\n",
    "y = np.random.normal(13. * np.cos(10.*X) / (X + 1.), 1.).ravel()"
   ]
  },
  {
   "cell_type": "markdown",
   "metadata": {},
   "source": [
    "We define a Gaussian process likelihood function of the latent parameters of our model given the observational data. In particular, our likelihood is a function of the kernel length scales and amplitude, the noise level of the target, and the inferred global minimum."
   ]
  },
  {
   "cell_type": "code",
   "execution_count": 4,
   "metadata": {},
   "outputs": [],
   "source": [
    "def log_likelihood_func(f):\n",
    "    # Extract Gaussian process latent parameters.\n",
    "    length_scales = np.exp(f[:1])\n",
    "    amplitude = np.exp(f[-3])\n",
    "    noise_level = np.exp(f[-2])\n",
    "    eta = -(np.exp(f[-1]) - y.min())\n",
    "    assert eta < y.min() and not np.isnan(eta)\n",
    "    # Compute a new target variable.\n",
    "    g = np.sqrt(2. * (y - eta))\n",
    "    gp = GaussianProcess(MaternKernel(length_scales, amplitude), 1e-5)\n",
    "    gp.fit(X, g)\n",
    "    # Now approximate the likelihood.\n",
    "    m_g, _ = gp.predict(X)\n",
    "    K_f = (gp.K * m_g).T * m_g + noise_level\n",
    "    L_f = spla.cholesky(K_f, lower=True)\n",
    "    m_f = eta + 0.5 * m_g**2\n",
    "    yp = y - m_f\n",
    "    alpha = spla.cho_solve((L_f, True), yp)\n",
    "    \n",
    "    return -1 * (\n",
    "        0.5 * yp.dot(alpha) + \n",
    "        np.sum(np.log(np.diag(L_f))) + \n",
    "        0.5 * X.shape[0] * np.log(2.*np.pi)\n",
    "    )"
   ]
  },
  {
   "cell_type": "markdown",
   "metadata": {},
   "source": [
    "We use an elliptical slice sampler to infer a distribution over the function's minimum (among other parameters). For the elliptical slice sampler, we assume a fully independent multivariate Gaussian. We adjust the mean and covariance of the minimum to more accurately reflect the prior belief."
   ]
  },
  {
   "cell_type": "code",
   "execution_count": 5,
   "metadata": {},
   "outputs": [],
   "source": [
    "n_samples = 1000\n",
    "mean = np.zeros((4, ))\n",
    "covariance = np.diag(np.ones((4, )) * 5.)"
   ]
  },
  {
   "cell_type": "code",
   "execution_count": 6,
   "metadata": {},
   "outputs": [],
   "source": [
    "sampler = EllipticalSliceSampler(mean, covariance, log_likelihood_func)\n",
    "samples = np.exp(sampler.sample(n_samples, burnin=1000))\n",
    "samples[:, -1] = -(samples[:, -1] - y.min())"
   ]
  },
  {
   "cell_type": "markdown",
   "metadata": {},
   "source": [
    "Now we visualize the distribution of the minimum. "
   ]
  },
  {
   "cell_type": "code",
   "execution_count": 7,
   "metadata": {},
   "outputs": [
    {
     "data": {
      "image/png": "[encoded data removed]",
      "text/plain": [
       "<matplotlib.figure.Figure at 0x7f835335fc18>"
      ]
     },
     "metadata": {},
     "output_type": "display_data"
    }
   ],
   "source": [
    "plt.figure(figsize=(17, 6))\n",
    "plt.plot(X.ravel(), y.ravel(), \"r.\")\n",
    "for i in range(min(n_samples, 1000)):\n",
    "    plt.plot([0., 1.], [samples[i, -1], samples[i, -1]], \"g-\", alpha=1. / 100)\n",
    "plt.grid()\n",
    "plt.legend(fontsize=12)\n",
    "plt.show()"
   ]
  },
  {
   "cell_type": "code",
   "execution_count": 9,
   "metadata": {},
   "outputs": [
    {
     "data": {
      "image/png": "[encoded data removed]",
      "text/plain": [
       "<matplotlib.figure.Figure at 0x7f8350997b70>"
      ]
     },
     "metadata": {},
     "output_type": "display_data"
    }
   ],
   "source": [
    "plt.figure(figsize=(17, 6))\n",
    "plt.hist(samples[:, -1], bins=20, normed=True)\n",
    "plt.title(\"Distribution over Function Minimum\", fontsize=14)\n",
    "plt.grid()\n",
    "plt.show()"
   ]
  },
  {
   "cell_type": "code",
   "execution_count": null,
   "metadata": {},
   "outputs": [],
   "source": []
  }
 ],
 "metadata": {
  "kernelspec": {
   "display_name": "Python 3",
   "language": "python",
   "name": "python3"
  },
  "language_info": {
   "codemirror_mode": {
    "name": "ipython",
    "version": 3
   },
   "file_extension": ".py",
   "mimetype": "text/x-python",
   "name": "python",
   "nbconvert_exporter": "python",
   "pygments_lexer": "ipython3",
   "version": "3.5.2"
  }
 },
 "nbformat": 4,
 "nbformat_minor": 2
}
